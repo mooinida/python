{
 "cells": [
  {
   "cell_type": "code",
   "execution_count": 37,
   "id": "6f882e39",
   "metadata": {},
   "outputs": [
    {
     "name": "stdout",
     "output_type": "stream",
     "text": [
      "mirkovC4nizCC44\n",
      "deque(['m', 'i', 'r', 'k', 'o', 'v', 'C', '4', 'n', 'i', 'z', 'C', 'C', '4', '4'])\n",
      "C4\n",
      "deque(['m', 'i', 'r', 'k', 'o', 'v', 'n', 'i', 'z', 'C', 'C', '4', '4'])\n"
     ]
    },
    {
     "ename": "IndexError",
     "evalue": "deque index out of range",
     "output_type": "error",
     "traceback": [
      "\u001b[1;31m---------------------------------------------------------------------------\u001b[0m",
      "\u001b[1;31mIndexError\u001b[0m                                Traceback (most recent call last)",
      "Cell \u001b[1;32mIn[37], line 8\u001b[0m\n\u001b[0;32m      6\u001b[0m \u001b[38;5;28;01mwhile\u001b[39;00m(f):\n\u001b[0;32m      7\u001b[0m     \u001b[38;5;28;01mfor\u001b[39;00m i \u001b[38;5;129;01min\u001b[39;00m \u001b[38;5;28mrange\u001b[39m(\u001b[38;5;28mlen\u001b[39m(f)):\n\u001b[1;32m----> 8\u001b[0m         \u001b[38;5;28;01mif\u001b[39;00m(\u001b[43mdq\u001b[49m\u001b[43m[\u001b[49m\u001b[43mf\u001b[49m\u001b[43m[\u001b[49m\u001b[43mi\u001b[49m\u001b[43m]\u001b[49m\u001b[38;5;241;43m+\u001b[39;49m\u001b[38;5;241;43m1\u001b[39;49m\u001b[43m]\u001b[49m\u001b[38;5;241m==\u001b[39mn[\u001b[38;5;241m1\u001b[39m]):\n\u001b[0;32m      9\u001b[0m             \u001b[38;5;28;01mdel\u001b[39;00m dq[f[i]\u001b[38;5;241m+\u001b[39m\u001b[38;5;241m1\u001b[39m]\n\u001b[0;32m     10\u001b[0m             \u001b[38;5;28;01mdel\u001b[39;00m dq[f[i]]\n",
      "\u001b[1;31mIndexError\u001b[0m: deque index out of range"
     ]
    }
   ],
   "source": [
    "from collections import deque\n",
    "dq=deque(input())\n",
    "print(dq)\n",
    "n=input()\n",
    "f=[i for i,x in enumerate(dq) if x==n[0]]\n",
    "while(f):\n",
    "    for i in range(len(f)):\n",
    "        if(dq[f[i]+1]==n[1]):\n",
    "            del dq[f[i]+1]\n",
    "            del dq[f[i]]\n",
    "            del f[i]\n",
    "        print(dq)\n",
    "print(dq)\n",
    "            \n",
    "        "
   ]
  },
  {
   "cell_type": "code",
   "execution_count": 33,
   "id": "2f5d2e5a",
   "metadata": {},
   "outputs": [
    {
     "data": {
      "text/plain": [
       "'C'"
      ]
     },
     "execution_count": 33,
     "metadata": {},
     "output_type": "execute_result"
    }
   ],
   "source": [
    "dq[f[0]]"
   ]
  },
  {
   "cell_type": "code",
   "execution_count": 31,
   "id": "65443693",
   "metadata": {},
   "outputs": [],
   "source": [
    "f=[6,11,12]"
   ]
  },
  {
   "cell_type": "code",
   "execution_count": 26,
   "id": "e8d131ea",
   "metadata": {},
   "outputs": [
    {
     "data": {
      "text/plain": [
       "3"
      ]
     },
     "execution_count": 26,
     "metadata": {},
     "output_type": "execute_result"
    }
   ],
   "source": [
    "len(f)"
   ]
  },
  {
   "cell_type": "code",
   "execution_count": 27,
   "id": "4891c9f5",
   "metadata": {},
   "outputs": [
    {
     "data": {
      "text/plain": [
       "12"
      ]
     },
     "execution_count": 27,
     "metadata": {},
     "output_type": "execute_result"
    }
   ],
   "source": [
    "f[2]"
   ]
  },
  {
   "cell_type": "code",
   "execution_count": 28,
   "id": "f1c69d90",
   "metadata": {},
   "outputs": [],
   "source": [
    "del f[1]"
   ]
  },
  {
   "cell_type": "code",
   "execution_count": 29,
   "id": "96467668",
   "metadata": {},
   "outputs": [
    {
     "data": {
      "text/plain": [
       "[6, 12]"
      ]
     },
     "execution_count": 29,
     "metadata": {},
     "output_type": "execute_result"
    }
   ],
   "source": [
    "f"
   ]
  },
  {
   "cell_type": "code",
   "execution_count": 39,
   "id": "7805d758",
   "metadata": {},
   "outputs": [
    {
     "data": {
      "text/plain": [
       "array([[ 7, 15, 11],\n",
       "       [ 5,  2, -9],\n",
       "       [ 5,  7, 13]])"
      ]
     },
     "execution_count": 39,
     "metadata": {},
     "output_type": "execute_result"
    }
   ],
   "source": [
    "import numpy as np\n",
    "x=np.array([[1,-2,3],\n",
    "           [7,5,0],\n",
    "           [-2,-1,2]])\n",
    "y=np.array([[0,1,3],\n",
    "           [1,-1,4],\n",
    "           [-2,1,5]])\n",
    "np.inner(x,y)"
   ]
  },
  {
   "cell_type": "code",
   "execution_count": null,
   "id": "c2834560",
   "metadata": {},
   "outputs": [],
   "source": []
  }
 ],
 "metadata": {
  "kernelspec": {
   "display_name": "Python 3 (ipykernel)",
   "language": "python",
   "name": "python3"
  },
  "language_info": {
   "codemirror_mode": {
    "name": "ipython",
    "version": 3
   },
   "file_extension": ".py",
   "mimetype": "text/x-python",
   "name": "python",
   "nbconvert_exporter": "python",
   "pygments_lexer": "ipython3",
   "version": "3.9.16"
  }
 },
 "nbformat": 4,
 "nbformat_minor": 5
}
