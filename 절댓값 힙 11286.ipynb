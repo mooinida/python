{
 "cells": [
  {
   "cell_type": "code",
   "execution_count": 11,
   "id": "865c59b9",
   "metadata": {},
   "outputs": [
    {
     "name": "stdout",
     "output_type": "stream",
     "text": [
      "9\n",
      "1\n",
      "-1\n",
      "0\n",
      "-1\n",
      "0\n",
      "1\n",
      "3\n",
      "-3\n",
      "0\n",
      "-3\n",
      "0\n",
      "3\n",
      "4\n"
     ]
    }
   ],
   "source": [
    "import heapq as hq\n",
    "h=[]\n",
    "for i in range(int(input())):\n",
    "    n=int(input())\n",
    "    if n==0:\n",
    "        if h:\n",
    "            print(hq.heappop(h)[1])\n",
    "        else:\n",
    "            print(h)\n",
    "    else:\n",
    "        hq.heappush(h,(abs(n),n))\n",
    "        \n"
   ]
  },
  {
   "cell_type": "code",
   "execution_count": 3,
   "id": "24f9a637",
   "metadata": {},
   "outputs": [],
   "source": [
    "h=[]\n",
    "hq.heappush(h,1)\n",
    "hq.heappush(h,2)\n",
    "hq.heappush(h,-1)\n",
    "hq.heappush(h,-11)\n",
    "hq.heappush(h,-31)\n",
    "hq.heappush(h,-21)\n"
   ]
  },
  {
   "cell_type": "code",
   "execution_count": 4,
   "id": "9d9c6c8c",
   "metadata": {},
   "outputs": [
    {
     "data": {
      "text/plain": [
       "[-31, -11, -21, 2, -1, 1]"
      ]
     },
     "execution_count": 4,
     "metadata": {},
     "output_type": "execute_result"
    }
   ],
   "source": [
    "h"
   ]
  },
  {
   "cell_type": "code",
   "execution_count": 5,
   "id": "c51d8319",
   "metadata": {},
   "outputs": [],
   "source": [
    "h.sort(key=abs)"
   ]
  },
  {
   "cell_type": "code",
   "execution_count": 6,
   "id": "35eb2b92",
   "metadata": {},
   "outputs": [
    {
     "data": {
      "text/plain": [
       "[-1, 1, 2, -11, -21, -31]"
      ]
     },
     "execution_count": 6,
     "metadata": {},
     "output_type": "execute_result"
    }
   ],
   "source": [
    "h"
   ]
  },
  {
   "cell_type": "code",
   "execution_count": null,
   "id": "3a502fcb",
   "metadata": {},
   "outputs": [],
   "source": []
  }
 ],
 "metadata": {
  "kernelspec": {
   "display_name": "Python 3 (ipykernel)",
   "language": "python",
   "name": "python3"
  },
  "language_info": {
   "codemirror_mode": {
    "name": "ipython",
    "version": 3
   },
   "file_extension": ".py",
   "mimetype": "text/x-python",
   "name": "python",
   "nbconvert_exporter": "python",
   "pygments_lexer": "ipython3",
   "version": "3.9.16"
  }
 },
 "nbformat": 4,
 "nbformat_minor": 5
}
