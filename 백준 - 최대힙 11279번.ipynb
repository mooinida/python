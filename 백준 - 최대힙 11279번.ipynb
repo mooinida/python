{
 "cells": [
  {
   "cell_type": "code",
   "execution_count": null,
   "id": "a7fa010a",
   "metadata": {},
   "outputs": [],
   "source": [
    "import sys\n",
    "import heapq as hq\n",
    "input=sys.stdin.readline\n",
    "n=int(input())\n",
    "heap=[]\n",
    "for i in range(n):\n",
    "    x=int(input())\n",
    "    if(x==0):\n",
    "        if(heap):\n",
    "            print(-hq.heappop(heap))\n",
    "        else:\n",
    "            print(0)\n",
    "    else:\n",
    "        hq.heappush(heap,-x)\n",
    "    "
   ]
  }
 ],
 "metadata": {
  "kernelspec": {
   "display_name": "Python 3 (ipykernel)",
   "language": "python",
   "name": "python3"
  },
  "language_info": {
   "codemirror_mode": {
    "name": "ipython",
    "version": 3
   },
   "file_extension": ".py",
   "mimetype": "text/x-python",
   "name": "python",
   "nbconvert_exporter": "python",
   "pygments_lexer": "ipython3",
   "version": "3.9.16"
  }
 },
 "nbformat": 4,
 "nbformat_minor": 5
}
