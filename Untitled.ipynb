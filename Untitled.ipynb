{
 "cells": [
  {
   "cell_type": "code",
   "execution_count": 16,
   "id": "5e24fcf6",
   "metadata": {},
   "outputs": [],
   "source": [
    "import heapq as hq\n",
    "h=[]\n",
    "hq.heappush(h,1)\n",
    "hq.heappush(h,-3)\n",
    "hq.heappush(h,4)\n",
    "hq.heappush(h,3)\n",
    "hq.heappush(h,8)\n",
    "hq.heappush(h,-8)\n",
    "hq.heappush(h,10)\n",
    "hq.heappush(h,-10)\n",
    "hq.heappush(h,12)"
   ]
  },
  {
   "cell_type": "code",
   "execution_count": 18,
   "id": "cae37dac",
   "metadata": {},
   "outputs": [],
   "source": [
    "h.sort()"
   ]
  },
  {
   "cell_type": "code",
   "execution_count": 19,
   "id": "d526ff20",
   "metadata": {},
   "outputs": [
    {
     "data": {
      "text/plain": [
       "[-10, -8, -3, 1, 3, 4, 8, 10, 12]"
      ]
     },
     "execution_count": 19,
     "metadata": {},
     "output_type": "execute_result"
    }
   ],
   "source": [
    "h"
   ]
  },
  {
   "cell_type": "code",
   "execution_count": null,
   "id": "648393de",
   "metadata": {},
   "outputs": [],
   "source": []
  }
 ],
 "metadata": {
  "kernelspec": {
   "display_name": "Python 3 (ipykernel)",
   "language": "python",
   "name": "python3"
  },
  "language_info": {
   "codemirror_mode": {
    "name": "ipython",
    "version": 3
   },
   "file_extension": ".py",
   "mimetype": "text/x-python",
   "name": "python",
   "nbconvert_exporter": "python",
   "pygments_lexer": "ipython3",
   "version": "3.9.16"
  }
 },
 "nbformat": 4,
 "nbformat_minor": 5
}
